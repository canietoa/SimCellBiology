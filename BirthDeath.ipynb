{
 "cells": [
  {
   "cell_type": "code",
   "execution_count": 13,
   "id": "e8e24a67",
   "metadata": {},
   "outputs": [],
   "source": [
    "import numpy as np\n",
    "import matplotlib.pyplot as plt\n",
    "import pandas as pd\n",
    "from scipy import optimize"
   ]
  },
  {
   "cell_type": "code",
   "execution_count": 6,
   "id": "893a0c4a",
   "metadata": {},
   "outputs": [],
   "source": [
    "k=0.562\n",
    "mu=1\n",
    "tmax=10\n",
    "s0=3\n",
    "r=np.random.rand()\n",
    "def f(t):\n",
    "    return np.log(r)+(k*s0*t+0.5*mu*t**2)\n",
    "sol = optimize.root(f, [0, 2])\n",
    "sol.x[0]"
   ]
  },
  {
   "cell_type": "code",
   "execution_count": null,
   "id": "f3b57d90",
   "metadata": {},
   "outputs": [],
   "source": []
  },
  {
   "cell_type": "code",
   "execution_count": 9,
   "id": "d62a37ef",
   "metadata": {},
   "outputs": [
    {
     "data": {
      "image/png": "[encoded data removed]",
      "text/plain": [
       "<Figure size 432x288 with 1 Axes>"
      ]
     },
     "metadata": {
      "needs_background": "light"
     },
     "output_type": "display_data"
    }
   ],
   "source": [
    "t=np.linspace(0,2,100)\n",
    "plt.plot(t,f(t))\n",
    "\n"
   ]
  },
  {
   "cell_type": "code",
   "execution_count": 12,
   "id": "3f622f62",
   "metadata": {},
   "outputs": [
    {
     "data": {
      "text/plain": [
       "0.18821697631314052"
      ]
     },
     "execution_count": 12,
     "metadata": {},
     "output_type": "execute_result"
    }
   ],
   "source": []
  },
  {
   "cell_type": "code",
   "execution_count": 22,
   "id": "98549607",
   "metadata": {},
   "outputs": [
    {
     "name": "stdout",
     "output_type": "stream",
     "text": [
      "0.1 3.1\n",
      "0.2 3.2\n",
      "0.30000000000000004 3.3000000000000003\n",
      "0.4 3.4000000000000004\n",
      "0.5 3.5000000000000004\n",
      "0.6 3.6000000000000005\n",
      "0.7 3.7000000000000006\n",
      "0.7999999999999999 3.8000000000000007\n",
      "0.8999999999999999 3.900000000000001\n",
      "0.9999999999999999 4.000000000000001\n",
      "1.2 2.1986132132427163\n",
      "1.3 2.2986132132427164\n",
      "1.4000000000000001 2.3986132132427165\n",
      "1.5000000000000002 2.4986132132427166\n",
      "1.6000000000000003 2.5986132132427167\n",
      "1.7000000000000004 2.6986132132427167\n",
      "1.8000000000000005 2.798613213242717\n",
      "2.0000000000000004 2.1083224948936556\n",
      "2.1000000000000005 2.2083224948936557\n",
      "2.2000000000000006 2.308322494893656\n",
      "2.600000000000001 2.5648248074822777\n",
      "2.700000000000001 2.664824807482278\n",
      "2.800000000000001 2.764824807482278\n",
      "3.0000000000000013 2.7903757198655312\n",
      "3.1000000000000014 2.8903757198655313\n",
      "3.4000000000000017 3.2626867754174995\n",
      "3.5000000000000018 3.3626867754174996\n",
      "3.600000000000002 3.4626867754174997\n",
      "3.700000000000002 3.5626867754175\n",
      "3.800000000000002 3.6626867754175\n",
      "3.900000000000002 3.7626867754175\n",
      "4.000000000000002 3.8626867754175\n",
      "4.100000000000001 3.9626867754175\n",
      "4.200000000000001 4.0626867754175\n",
      "4.4 3.8770264533512893\n",
      "4.699999999999999 4.520224512773809\n",
      "4.799999999999999 4.620224512773809\n",
      "4.899999999999999 4.720224512773808\n",
      "4.999999999999998 4.820224512773808\n",
      "5.099999999999998 4.920224512773808\n",
      "5.4999999999999964 5.411271693812322\n",
      "5.599999999999996 5.511271693812322\n",
      "5.699999999999996 5.611271693812322\n",
      "5.799999999999995 5.711271693812321\n",
      "5.899999999999995 5.811271693812321\n",
      "5.999999999999995 5.911271693812321\n",
      "6.099999999999994 6.01127169381232\n",
      "6.299999999999994 5.874675034694348\n",
      "6.399999999999993 5.974675034694347\n",
      "6.499999999999993 6.074675034694347\n",
      "6.5999999999999925 6.174675034694347\n",
      "6.699999999999992 6.274675034694346\n",
      "6.799999999999992 6.374675034694346\n",
      "6.8999999999999915 6.474675034694346\n",
      "6.999999999999991 6.574675034694345\n",
      "7.099999999999991 6.674675034694345\n",
      "7.19999999999999 6.7746750346943445\n",
      "7.29999999999999 6.874675034694344\n",
      "7.39999999999999 6.974675034694344\n",
      "7.499999999999989 7.0746750346943434\n",
      "7.799999999999988 7.350335139640115\n",
      "7.899999999999988 7.4503351396401145\n",
      "8.099999999999987 7.773894407300672\n",
      "8.199999999999987 7.873894407300671\n",
      "8.399999999999986 8.093799116840907\n",
      "8.499999999999986 8.193799116840907\n",
      "8.599999999999985 8.293799116840907\n",
      "8.699999999999985 8.393799116840906\n",
      "8.799999999999985 8.493799116840906\n",
      "8.899999999999984 8.593799116840906\n",
      "8.999999999999984 8.693799116840905\n",
      "9.099999999999984 8.793799116840905\n",
      "9.199999999999983 8.893799116840905\n",
      "9.299999999999983 8.993799116840904\n",
      "9.399999999999983 9.093799116840904\n",
      "9.499999999999982 9.193799116840903\n",
      "9.599999999999982 9.293799116840903\n",
      "9.699999999999982 9.393799116840903\n",
      "9.89999999999998 8.997954633525703\n",
      "9.99999999999998 9.097954633525703\n"
     ]
    },
    {
     "ename": "IndexError",
     "evalue": "index 100 is out of bounds for axis 1 with size 100",
     "output_type": "error",
     "traceback": [
      "\u001b[1;31m---------------------------------------------------------------------------\u001b[0m",
      "\u001b[1;31mIndexError\u001b[0m                                Traceback (most recent call last)",
      "\u001b[1;32m<ipython-input-22-4a49267998b7>\u001b[0m in \u001b[0;36m<module>\u001b[1;34m\u001b[0m\n\u001b[0;32m     33\u001b[0m             \u001b[0mn\u001b[0m\u001b[1;33m+=\u001b[0m\u001b[1;36m1\u001b[0m\u001b[1;33m\u001b[0m\u001b[0m\n\u001b[0;32m     34\u001b[0m             \u001b[0mprint\u001b[0m\u001b[1;33m(\u001b[0m\u001b[0mt\u001b[0m\u001b[1;33m,\u001b[0m\u001b[0ms\u001b[0m\u001b[1;33m)\u001b[0m\u001b[1;33m\u001b[0m\u001b[0m\n\u001b[1;32m---> 35\u001b[1;33m         \u001b[0msizesarr\u001b[0m\u001b[1;33m[\u001b[0m\u001b[0mm\u001b[0m\u001b[1;33m,\u001b[0m\u001b[0mn\u001b[0m\u001b[1;33m]\u001b[0m\u001b[1;33m=\u001b[0m\u001b[0ms\u001b[0m\u001b[1;33m\u001b[0m\u001b[0m\n\u001b[0m\u001b[0;32m     36\u001b[0m         \u001b[0ms\u001b[0m\u001b[1;33m=\u001b[0m\u001b[0mss\u001b[0m\u001b[1;33m/\u001b[0m\u001b[1;36m2\u001b[0m\u001b[1;33m+\u001b[0m\u001b[0mmu\u001b[0m\u001b[1;33m*\u001b[0m\u001b[1;33m(\u001b[0m\u001b[0mt\u001b[0m\u001b[1;33m+\u001b[0m\u001b[0mdt\u001b[0m\u001b[1;33m-\u001b[0m\u001b[0mtau\u001b[0m\u001b[1;33m)\u001b[0m\u001b[1;33m\u001b[0m\u001b[0m\n\u001b[0;32m     37\u001b[0m         \u001b[0mt\u001b[0m\u001b[1;33m+=\u001b[0m\u001b[0mdt\u001b[0m\u001b[1;33m\u001b[0m\u001b[0m\n",
      "\u001b[1;31mIndexError\u001b[0m: index 100 is out of bounds for axis 1 with size 100"
     ]
    }
   ],
   "source": [
    "#escenario3\n",
    "k=0.562\n",
    "mu=1\n",
    "tmax=10\n",
    "s0=3\n",
    "dt=0.1\n",
    "ncells=50\n",
    "nsteps=100\n",
    "\n",
    "means=pd.DataFrame(columns=['time','Mean','MeanErr','Cv2','Cv2err'])\n",
    "\n",
    "sizesarr=np.empty([ncells,100])\n",
    "\n",
    "df=None\n",
    "\n",
    "for m in range(ncells):\n",
    "    s=s0\n",
    "    t=0\n",
    "    n=0\n",
    "    tau=0\n",
    "    while n<nsteps:\n",
    "        r=np.random.rand()\n",
    "        def f(t):\n",
    "            return np.log(r)+(k*s0*t+0.5*mu*t**2)\n",
    "        sol = optimize.root(f, [0, 2])\n",
    "        tau+=sol.x[0]\n",
    "        ss=s+mu*tau#tamano al dividirse\n",
    "        \n",
    "        while t+dt<tau and t+dt<tmax:            \n",
    "            sizesarr[m,n]=s\n",
    "            s+=mu*dt\n",
    "            t+=dt\n",
    "            n+=1\n",
    "            print(t,s)\n",
    "        sizesarr[m,n]=s\n",
    "        s=ss/2+mu*(t+dt-tau)\n",
    "        t+=dt\n",
    "        n+=1\n",
    "\n",
    "\n",
    "\n",
    "\n"
   ]
  },
  {
   "cell_type": "code",
   "execution_count": 23,
   "id": "2b67441d",
   "metadata": {},
   "outputs": [
    {
     "data": {
      "text/plain": [
       "[<matplotlib.lines.Line2D at 0x20ada0973c8>]"
      ]
     },
     "execution_count": 23,
     "metadata": {},
     "output_type": "execute_result"
    },
    {
     "data": {
      "image/png": "[encoded data removed]",
      "text/plain": [
       "<Figure size 432x288 with 1 Axes>"
      ]
     },
     "metadata": {
      "needs_background": "light"
     },
     "output_type": "display_data"
    }
   ],
   "source": [
    "plt.plot(sizesarr[0,:])"
   ]
  },
  {
   "cell_type": "code",
   "execution_count": null,
   "id": "f3a73bf7",
   "metadata": {},
   "outputs": [],
   "source": [
    "mean_cntr, var_cntr, std_cntr = bayesest(df.time,alpha=0.95)\n",
    "meanarr[i]=np.mean(df.time)\n",
    "meanerr[i]=mean_cntr[1][1]-mean_cntr[0]\n",
    "noisearr[i]=(np.var(df.time)/np.mean(df.time)**2)\n",
    "errv=(var_cntr[1][1]-var_cntr[0])/mean_cntr[0]**2+2*(mean_cntr[1][1]-mean_cntr[0])*var_cntr[0]/mean_cntr[0]**3\n",
    "noiseerr[i]=errv\n",
    "i+=1\n",
    "\n",
    "df=pd.DataFrame({'c0':car,'MeanSim':meanarr,\n",
    "            'Meanerr':meanerr,'cv2Sim':noisearr,'cv2err':noiseerr})"
   ]
  }
 ],
 "metadata": {
  "kernelspec": {
   "display_name": "Python 3",
   "language": "python",
   "name": "python3"
  },
  "language_info": {
   "codemirror_mode": {
    "name": "ipython",
    "version": 3
   },
   "file_extension": ".py",
   "mimetype": "text/x-python",
   "name": "python",
   "nbconvert_exporter": "python",
   "pygments_lexer": "ipython3",
   "version": "3.6.4"
  }
 },
 "nbformat": 4,
 "nbformat_minor": 5
}
